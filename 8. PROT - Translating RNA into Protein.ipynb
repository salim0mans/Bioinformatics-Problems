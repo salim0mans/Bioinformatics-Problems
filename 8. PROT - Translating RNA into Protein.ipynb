{
 "cells": [
  {
   "cell_type": "markdown",
   "id": "9d8c2d96",
   "metadata": {},
   "source": [
    "## 8. PROT - Translating RNA into Protein  \n",
    "  \n",
    "Protein translation follows the universal code, where each 3 bases (1 codon) in mRNA represent one amino acid (aa). The genetic code is unique for each aa. In other words, no aa shares genetic code with another. Also, genetic code covers all possibilities of 3 consecutive bases (4^3), but there are still 3 codons not equivalent to any aa, but rather to a stop signal.  \n",
    "We have a dictionary defining the genetic code, with a string containing all aa. We slide a window along the RNA sequence (with a length equals 1 codon/3 bases). While sliding, we search for each window in the lists of genetic code (values of the dict) and get the key (the correct aa symbol) that contains such window, and concatenate it to the peptide string."
   ]
  },
  {
   "cell_type": "code",
   "execution_count": 5,
   "id": "53dfe0b1",
   "metadata": {},
   "outputs": [
    {
     "name": "stdout",
     "output_type": "stream",
     "text": [
      "MTGHRSSFRRVFPRRPGFHCPDVHPVGLRRCRVSLLASIALLHVGQKEYASTCEQYTLLFMLLTPVDAPRKDLQPWARGSGSHGVPNLGAQGWVKPESELLVQQSLARIRDCSSLLSGSAHHPTVNFLTSTSRCFDQAYAFSEYSPECTRPPSKTCTPPIEDVRVSAYLPHVIKKLAKLGPNRDYRQPTRVNPKGGWKSYRSTYIPQSEEIFVVSPRENAVCLTSARVIAVSKYYQRNSLATEYDWLAPDLKWDKFQVSLGSDTKLKGCSPNQIWSPLLHELKPLSHLSRRLSCRTLPPESASDFLSCWQHSGQLLHHSCFYSVTRTLARQRLYGTSVRTLCSTVLYQYISIWQAGSQNRNDDENRLACRTHDVGVTVRAPHECAHRRLRLHIGILNCQARKHSSHARLWATTRINVKASSQASSERNAVTSCLNSTFSRAPRLVPRAVRTLSPNSSIVSSLGGLRVLAREDVRDSGLNPEHYSSSTAPQNVATFTIWPVQGRGASAVLLHNAGCVGGTGERPLPQLGRLRFLFIMWAHKPFAYANLSKENVPYRQAGRTVFGEYCSSRPGWAKLDKPRFRFPVNDANCLVTQIPQRKFINSWIYVRISVSYGYDCKTRRVRGTARPSVRAIVKRLVHHHLACFSRRDTLLGFSQVLRWLRFPIRPVRRSFKSNRLDAKVTLLRTDELLARDICGIKQSISRVGILCPEPSRYGSVYGQLYLVLGGHKASSNLPQGLMNRVPPRNLCAPDVVVDVARDSAFSMRPLLTLAIITYLQPDYVCGTLLTRDLCSKTLVYPLAGAEREDVPSVLGRFLKTPDLDADGFGRAIDLEATRSSLTHKQLGVGSLSGIRQAGMRVHVLYPRTRHLRIIERSYSHLPTLVCVCPLELSAGIPKINRVCSAPLLGRISTGAAHNGLSDKGGRESPFTNKPASACRGTIWLAQVRHRVLEVTLLNLFKPGLNSLDMSFLTRIYLYQTFIFDNIHASESVICNSPDDFINLTASILSAMPCRALSNKGTEDKLVVLLGSRGQYPCEPPMLVVGAQLILGGPINGGLAGLRGPGTLRSPYRRRHSRVCGTPSLRSIRYIYKSILAACHVSLSIVLPELRACHILESDQDLRMIIDRQDLNSQLLNGSIYNCGLTSFNATPPARPIYDQQSSYTLRSMSGLVLLSGEASESQPTHTDTTLIRLCRHRVANPGRIKFLIPYKSSHRQSNLQSDFLVQPGRSDASNNYIMVPKEDPTEYRMPGNDMHRIANEIVETISFWEFVIRECRSVMYRKKMFKMDVTIGRASSEYQTILTSVRLDVRSTQAVYCQKYWTLAKMLQAQTITPQSCLARFLESSVPNLRIQACNETIRGLVRFGKRRSRYPRVNFHNYNAQLRQHATLYHFDSCDPRSPVCLFLATSCHVWFRAKFDNSQEKCRSVTCICRFGPGATSPGINGAIARLLCSISSPSTYSPLRIIRLPTGTVANEANASGIRSPVNSAGLGLSRTKGITLRPARHKPPLCTIQGNSYLFQTVLSLGDNPTLEHSEAYRRGSRRGLMQGETERRVVQCGEPASYSSTQDDSSRNRGAVSEASFSKGHRMRTNSNANVAIECVRGYIVCVAFSVYMWPHEHHQSKQLLFIGLDSATPSPPIEGAKQISKIAKYRPENCRPLPTKGTIINHKAWIVCSTSLDGCRQGTHDDKHRGNAPVQSLPWDTRGRRNPDVSRFGQPGGLPLSLKRPIAHASLGLLLPLSYVFRSMHLPILIVCEPLTSRLSGRSHDNPLCGYTSTVPMTDSDVKVLIILTMREILIHGHPTHDQVATVEYRSLSNSSPQTAGREGGRCDGLDAEHPYPCRAPNGELDKDLKIISLRSHLPQRLMHLFHYRIHSTGLAIMSSFNSPLRAICRRSVFQMVIITGHHTPQKRPSFASAFAVFDRLEGHSRPRWTRSHQASQDQPIVRHPRQSGITIYGATHGAPARATSPPRCLMLTYQPWWVDDKELKVYESTEKEDHRERVIPLLSRLTTQIRRLGSSFNMRVLLGRHNTARYESSYVSSTACAYTKPVWFFPGGHPSIPLFAVTVRRSYPLGCRPLRSQFVIFEPVRFLVPQASPRPTWLQPGLYRQEPNLYKGSSEAFYTGSLERDLRHPADQRTGSFFQGRRTTASPAYLVTPVLSQNHVTDARSFFFRCDMGEYCDYKHNLRVRKCIHFYIVIGPILSRRSSSSTNVLATGCLILPRLKVPIRVMNVGGVRTFARGTLPKKTESQVEYQFINDRSIGDRKLPSVRYALICENLPPVNVPSNTIPRCLVSVLICSSLNLLAVARVNHVSLAESCVAVDYPKLARERSGNDLRCVDWGETQQLAQRRWVEFFFAKWFKNTKWPPRRNIHGSPGVSITSVRSFLVLHRRDACTALIGWIYSTRYDGYAASGYLTRSLNPTAGYPEPHALHASEEDGYWPPQVVTETSSSKADTNNIGTLRNQISIGTAGDDTPKTMWQGRSALATHGHTLGYGRLLWVKASVAPVVHIFTYLTEDCQSKTLLDAVDRLRSLLGLRASGPLLVQQTKRVLSLVPAPSAETLKRLCPSASLTFKCMSKSKKCVFVCGCGGQYPVRRGPKRPSTIRVERLQVAKAWLGIFDRTTRLGIRCHLKQLTRAFQVSFEGNQTRGEALARLLTGFCSLPAPWRKVPCASPPLITPHSSEGRLMRCPEEGYCKCYPRKNTTVTSGIGISNQQTEGAVVDPLSVSQGTDRRLPQYGTAVESNVHNLRWRAWANSCSESAITKPFRTEIITLESRTLRDLRDDQLVSNSDTGMFAWSTVCSFIAGFGARMQLEDLHRCRVSLMDDLWAAEPSPKG\n"
     ]
    }
   ],
   "source": [
    "path = \"datasets/rosalind_prot.txt\"\n",
    "code = {\"A\": [\"GCU\",\"GCC\", \"GCA\",\"GCG\"], \"V\": [\"GUU\",\"GUA\",\"GUC\",\"GUG\"], \"I\": [\"AUU\", \"AUC\", \"AUA\"],\"M\":[\"AUG\"], \"L\": [\"CUU\",\"CUC\", \"CUG\", \"CUA\", \"UUA\",\"UUG\"],\"F\": [\"UUU\", \"UUC\"], \"S\": [\"UCU\",\"UCC\",\"UCA\",\"UCG\",\"AGU\",\"AGC\"], \"P\": [\"CCU\", \"CCC\",\"CCA\",\"CCG\"],\"T\": [\"ACU\",\"ACA\",\"ACC\",\"ACG\"], \"E\": [\"GAA\",\"GAG\"], \"D\":[\"GAU\", \"GAC\"], \"N\":[\"AAU\",\"AAC\"],\"K\":[\"AAA\",\"AAG\"], \"Q\":[\"CAA\", \"CAG\"], \"H\":[\"CAU\",\"CAC\"], \"Y\": [\"UAU\",\"UAC\"], \"C\": [\"UGU\",\"UGC\"], \"W\":[\"UGG\"],\"R\":[\"CGA\",\"CGC\",\"CGU\",\"CGG\",\"AGA\",\"AGG\"], \"G\":[\"GGU\",\"GGC\",\"GGA\",\"GGG\"], \"STOP\":[\"UGA\",\"UAA\",\"UAG\"]} ##genetic code\n",
    "aa_all = \"ACDEFGHIKLMNPQRSTVWY\" #all protein-building amino acids\n",
    "def translate(path):\n",
    "    codon_len = 3\n",
    "    peptide = []\n",
    "    final = []\n",
    "    with open(path) as file:\n",
    "        for line in file:\n",
    "            length = len(line.rstrip())\n",
    "            if length%3 != 0:          ##the RNA sequence should have multiplications of 3, so the codon number will be integer.\n",
    "                return \"Error in length! final codon is not complete, or frame shift happened.\"\n",
    "            for i in range(0,length-codon_len+1,codon_len):          ##we slide a window from 0 to the base that preceeds the final one by 2 (so that final window will cover the bases (n-2,n-1,n)), jumping by one codon (we don't overlap windows in translation)\n",
    "                codon = line[i:i+codon_len]      #the specific window of 1 codon is from the current position to the same position further 3 steps (codon length)\n",
    "                for x in codon:\n",
    "                    if not x in \"ACGU\":\n",
    "                        return \"Error in sequence at position \" + str(i)     ### make sure the sequence has only valid RNA bases\n",
    "                for aa in range(len(aa_all)):            ## we take each aa from the whole string of aa symbols as a variable\n",
    "                    symbol = aa_all[aa]                   \n",
    "                    if codon in code[symbol]:            # we chack if the codon is in the list of that chosen aa (if not, the loop will run another aa until TRUE)\n",
    "                        peptide.append(symbol)\n",
    "                    elif codon in code[\"STOP\"] and i+3 < length: # if there is a stop codon before the end of the sequence, this should catch it\n",
    "                            final.append(\"\".join(peptide))            ### and finish the peptide there\n",
    "                            return \"\\n\".join(final)+\"\\n\"+\"Warning of premature Stop at position: \" + str(i)\n",
    "            final.append(\"\".join(peptide)) \n",
    "            peptide = [] ## this will empty the peptide concatenation list in case there are multiple lines\n",
    "    return \"\\n\".join(final)\n",
    "\n",
    "print(translate(path))\n"
   ]
  }
 ],
 "metadata": {
  "kernelspec": {
   "display_name": "Python 3 (ipykernel)",
   "language": "python",
   "name": "python3"
  },
  "language_info": {
   "codemirror_mode": {
    "name": "ipython",
    "version": 3
   },
   "file_extension": ".py",
   "mimetype": "text/x-python",
   "name": "python",
   "nbconvert_exporter": "python",
   "pygments_lexer": "ipython3",
   "version": "3.11.4"
  }
 },
 "nbformat": 4,
 "nbformat_minor": 5
}
