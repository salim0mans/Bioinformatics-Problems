{
 "cells": [
  {
   "cell_type": "markdown",
   "id": "9d8c2d96",
   "metadata": {},
   "source": [
    "## 4. FIB - Rabbits and Recurrence Relations  \n",
    "  \n",
    "We start by uploading the file from a local directory or so. \n",
    "The rabbits problem represents fibonacci's principle in his sequence. However, the mature rabbits (stage F(n-2)) will produce more than 1 offspring, but k. Therefore, we just multiply that term with k (while the stage F(n-1) represents the rabbits that were available in that stage, including the immature rabits and mature rabbits without their offspring)\n",
    "Fn = n-1=>(immature + mature) + n-2=>(offspring per mature) ==> all rabbits for stage n.  \n",
    "Fibonacci can be easily created with dictionaries. The solution involves using recurrence relation, and the output should be the nth term based on previous ones."
   ]
  },
  {
   "cell_type": "code",
   "execution_count": 54,
   "id": "224c50b4",
   "metadata": {
    "scrolled": true
   },
   "outputs": [
    {
     "name": "stdout",
     "output_type": "stream",
     "text": [
      "715827883\n"
     ]
    }
   ],
   "source": [
    "path = \"datasets/rosalind_fib.txt\"\n",
    "\n",
    "with open(path) as file:\n",
    "    for line in file:\n",
    "        input_pair = line.rstrip().split(\" \")      ##the input in the test file is n k (ex. 31 4), so we extract it as a list\n",
    "        total_stages,offspring_per_pair = int(input_pair[0]),int(input_pair[1]) #we assign inputs to n (total stages) and k (offspring per pair) \n",
    "\n",
    "def rabbit_rec(n,k):           #n is total stages, and k is offspring per pair (as named in the question)\n",
    "    pairs = {0:1, 1:1}\n",
    "    for i in range(2,n):                    \n",
    "        pairs[i] = pairs[i-1] + pairs[i-2]*k         ## normal fibonacci sequence will result when k = 1\n",
    "    return list(pairs.values())[-1]            #get the final (nth) value that resulted from recurrance (using previous outputs as input for following stage)\n",
    "\n",
    "print(rabbit_rec(total_stages,offspring_per_pair))"
   ]
  }
 ],
 "metadata": {
  "kernelspec": {
   "display_name": "Python 3 (ipykernel)",
   "language": "python",
   "name": "python3"
  },
  "language_info": {
   "codemirror_mode": {
    "name": "ipython",
    "version": 3
   },
   "file_extension": ".py",
   "mimetype": "text/x-python",
   "name": "python",
   "nbconvert_exporter": "python",
   "pygments_lexer": "ipython3",
   "version": "3.11.4"
  }
 },
 "nbformat": 4,
 "nbformat_minor": 5
}
