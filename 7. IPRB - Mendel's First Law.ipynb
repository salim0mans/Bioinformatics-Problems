{
 "cells": [
  {
   "cell_type": "markdown",
   "id": "9d8c2d96",
   "metadata": {},
   "source": [
    "## 7. IPRB - Mendel's First Law  \n",
    "We start by uploading the file from a local directory or so. We extract arguments.  \n",
    "Mendelian hybridization for one gene has limited cases, and specific independent probabilites of genotypes within each case.  \n",
    "We can gather these independent probabilities in each case (considering how many times it can be repeated, by taking combinations) and then multiply (intersect) by the probability of each case happening, which, assuming all cases are equally likely to happen, are all the same (1 / total_combinations)\n"
   ]
  },
  {
   "cell_type": "code",
   "execution_count": 25,
   "id": "224c50b4",
   "metadata": {
    "scrolled": true
   },
   "outputs": [
    {
     "name": "stdout",
     "output_type": "stream",
     "text": [
      "0.74597\n"
     ]
    }
   ],
   "source": [
    "path = \"datasets/rosalind_iprb.txt\"\n",
    "from math import *\n",
    "\n",
    "with open(path) as file:\n",
    "    for line in file:\n",
    "        inputs = line.rstrip().split(\" \")      ##the input in the test file is  k m n, so we extract it as a list\n",
    "        homo_dom,hetero,homo_rec = int(inputs[0]),int(inputs[1]),int(inputs[2]) #we assign inputs to k (homozygous doninant), m (heterozygous), and n (homozygous recessive) under more convenient names\n",
    "        total_size = homo_dom+hetero+homo_rec   #total size of the animal sample\n",
    "\n",
    "def mendelian_prob(homo_dom,hetero,homo_rec,dom_or_rec):     \n",
    "    total_combs = comb(total_size,2)      # total combinations of mates (all choose 2)\n",
    "    mendelian_cases = {\"AAxAA\":{\"AA\" : 1}, \"BBxBB\":{\"BB\": 1},\"ABxAB\":{\"AA\":0.25, \"AB\": 0.5, \"BB\": 0.25},\"AAxBB\":{\"AB\":1},\"AAxAB\":{\"AA\": 0.5, \"AB\": 0.5},\"BBxAB\":{\"BB\": 0.5, \"AB\": 0.5}} # probabilities in each possibility in mendelian 1 gene distribution\n",
    "    combs_list = [] ## this list will contain all cases with repeats according to numbers we had (each case will be repeated equally to its combination). Each case will be held as a dictionary (value from the dict above)\n",
    "    dom = [] #for dominant probs in each case\n",
    "    rec = [] #for recessive probs in each case\n",
    "                                                    ##the loops add each case to the list by the correct number of repetitions\n",
    "    for i in range(comb(homo_dom,2)):               ## choose two from homo_dom           \n",
    "        combs_list.append(mendelian_cases[\"AAxAA\"])\n",
    "    for i in range(comb(hetero,2)):                ## choose two from homo_rec\n",
    "        combs_list.append(mendelian_cases[\"ABxAB\"])\n",
    "    for i in range(comb(homo_rec,2)):              ### choose tw from hetero\n",
    "        combs_list.append(mendelian_cases[\"BBxBB\"]) \n",
    "    for i in range(homo_dom*hetero):                ### choose one from homo_dom and one from hetero\n",
    "        combs_list.append(mendelian_cases[\"AAxAB\"])\n",
    "    for i in range(homo_dom*homo_rec):               ### choose one from homo_dom and one from homo_rec\n",
    "        combs_list.append(mendelian_cases[\"AAxBB\"])\n",
    "    for i in range(hetero*homo_rec):                 ### choose one from hetero and one from homo_rec\n",
    "        combs_list.append(mendelian_cases[\"BBxAB\"])\n",
    "\n",
    "    for case in combs_list:\n",
    "        for genotype in case:          ## each case recorded (repeatedly) is a dictionary with each possible genotype and probability of it happening in that scenario\n",
    "            if \"A\" in genotype:        ### dominance requires only one allele of A (since A is the dominant allele here)\n",
    "                dom.append(case[genotype]*(1/total_combs))     ##take independent probability of that specific case and divide it be the total possible number of combinations (in other words, for example, the probability of this cases is 0.5, but the probability of that case happening is 1/all_combinations)\n",
    "            elif \"BB\" in genotype:        ### recessive cases needs two recessive alleles to happen.\n",
    "                rec.append(case[genotype]*(1/total_combs))    \n",
    "\n",
    "    if dom_or_rec == 1:             \n",
    "        return round(sum(dom), 5)       ##now we have a list of probabilities for each dominant case possible, we just sum thoses probabilities (as a union)\n",
    "    elif dom_or_rec == 0:\n",
    "        return round(sum(rec), 5)      ## same for recessive\n",
    "    else:\n",
    "        return \"Please, choose only 1 or 0\"\n",
    "\n",
    "\n",
    "print(mendelian_prob(homo_dom,hetero,homo_rec,1)) ###the function uses the final parameter as binary (1 if want prob of dominant and 0 for prob of recessive)"
   ]
  }
 ],
 "metadata": {
  "kernelspec": {
   "display_name": "Python 3 (ipykernel)",
   "language": "python",
   "name": "python3"
  },
  "language_info": {
   "codemirror_mode": {
    "name": "ipython",
    "version": 3
   },
   "file_extension": ".py",
   "mimetype": "text/x-python",
   "name": "python",
   "nbconvert_exporter": "python",
   "pygments_lexer": "ipython3",
   "version": "3.11.4"
  }
 },
 "nbformat": 4,
 "nbformat_minor": 5
}
