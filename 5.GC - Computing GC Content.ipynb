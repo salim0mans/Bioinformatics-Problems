{
 "cells": [
  {
   "cell_type": "markdown",
   "id": "9d8c2d96",
   "metadata": {},
   "source": [
    "## 5.GC - Computing GC Content\n",
    "  \n",
    "We start by uploading the file from a local directory or so. \n",
    "  First we define the general proccessing function that will calculate the GC percentage rounding to 6 digits. Then, we define another function that correctly reads the contents of the file (they were intentionally put as an ID line and then a sequence cut in separate lines (not one line as usual). Therefore, the manipulate function takes the lines that define the ID (as they start with \">\"), then takes in a loop all the lines that don't start with \">\", and concatenate them to reform one line until it finds \">\" again, which refers to beginning a new sequence. So, in this case the second condition applies and calculates the GC (with our first function) and assigns it into a dictionary.  \n",
    "We end up with a dictionary of IDs as keys, and another with GC content (at the same ordera with ID) as keys. so we form a final dict from them, as ID as key and GC as value.  \n",
    "Finally we make a simple matching function to get the max GC and output it with its corresponding ID, the same format required by the site."
   ]
  },
  {
   "cell_type": "code",
   "execution_count": 73,
   "id": "40a86be2",
   "metadata": {
    "scrolled": true
   },
   "outputs": [
    {
     "name": "stdout",
     "output_type": "stream",
     "text": [
      "Rosalind_8311\n",
      "51.371571\n"
     ]
    }
   ],
   "source": [
    "path = \"datasets/rosalind_gc.txt\"\n",
    "\n",
    "def GCprocess(dna):\n",
    "    dna_up = dna.upper()\n",
    "    gc_perc = (dna_up.count(\"C\")+dna_up.count(\"G\"))/(len(dna_up)) #GC content is (count of G + count of C)/total bases\n",
    "    return round(100*gc_perc, 6)\n",
    "\n",
    "def manipulate(path):\n",
    "    id_dict = {}\n",
    "    gc_perc_dict = {}\n",
    "    id_gc_pair_dict = {}\n",
    "    seq = \"\"\n",
    "    with open(path) as file:\n",
    "        for line in file:\n",
    "            if line.startswith(\">\"):\n",
    "                id_dict[line[1:].rstrip()] = 0\n",
    "    with open(path) as file:\n",
    "        for line in file:\n",
    "            if not line.startswith(\">\"):     #Condition repeats and concatenates lines of each sequence until new \">\"\n",
    "                seq += line.rstrip()\n",
    "            elif seq != \"\":                  #Condition applies when a new \">\" happens, so records the GC_perc for the previous seq above the new \">\"\n",
    "                gc_perc_dict[GCprocess(seq)] = 0\n",
    "                seq = \"\"                   #Emptying the seq string for concatenating a new sequence\n",
    "        gc_perc_dict[GCprocess(seq)] = 0       #For including the GC_perc of the last sequence because no new \">\" will happen\n",
    "        \n",
    "    for i in range(len(gc_perc_dict.keys())):   #the loop for matching each ID with the corresponding GC content of the seq.\n",
    "        k = list(id_dict.keys())[i]\n",
    "        v = list(gc_perc_dict.keys())[i]\n",
    "        id_gc_pair_dict[k] = v\n",
    "    return id_gc_pair_dict\n",
    "\n",
    "def match(path):\n",
    "    pairs = manipulate(path)           #means the pairs: ID,GC_perc in a dictionary\n",
    "    gc = list(pairs.values())\n",
    "    max_gc = max(gc)\n",
    "    rosalind_id = \"\"\n",
    "    for ID,GC in pairs.items():        #compare values of GC in dict, if one value is equal to the max value, then take the corresponding id\n",
    "        if GC == max_gc:\n",
    "            rosalind_id = ID\n",
    "    return f\"{rosalind_id}\\n{max_gc}\"   #and put them in a convenient format\n",
    "\n",
    "print(match(path))"
   ]
  }
 ],
 "metadata": {
  "kernelspec": {
   "display_name": "Python 3 (ipykernel)",
   "language": "python",
   "name": "python3"
  },
  "language_info": {
   "codemirror_mode": {
    "name": "ipython",
    "version": 3
   },
   "file_extension": ".py",
   "mimetype": "text/x-python",
   "name": "python",
   "nbconvert_exporter": "python",
   "pygments_lexer": "ipython3",
   "version": "3.11.4"
  }
 },
 "nbformat": 4,
 "nbformat_minor": 5
}
