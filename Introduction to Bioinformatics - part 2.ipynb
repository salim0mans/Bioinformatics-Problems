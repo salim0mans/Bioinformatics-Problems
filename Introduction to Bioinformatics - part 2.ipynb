{
 "cells": [
  {
   "cell_type": "markdown",
   "id": "2240767f",
   "metadata": {},
   "source": [
    "## Introduction to Bioinformatics - part 2  \n",
    "This file includes some of the problems handled in the San Diego course of Bioinformatics (Coursera), in a form of consecutive  functions that can be used by later functions to solve more complex problems.  \n",
    "The part 2 handles studying motifs and finding consensus, probabilites, Greedy search, etc."
   ]
  },
  {
   "cell_type": "code",
   "execution_count": 31,
   "id": "1573b041",
   "metadata": {},
   "outputs": [],
   "source": [
    "import re\n",
    "def is_valid_dna(string):\n",
    "    pattern = r'^[GCAT]*$'\n",
    "    return re.match(pattern, string) is not None\n"
   ]
  },
  {
   "cell_type": "markdown",
   "id": "d99b1ee6",
   "metadata": {},
   "source": [
    "### Entropy matrix  \n",
    "A motif matrix is a structure formed by aligning different sequences (e.g., comparing species for similarity in some promoter), the example below is 10 motifs with length of 12 bases. Each aligned base creates a column where the rows are the motif sequences.  \n",
    "Entropy matrix renders the entropy (that represents the uncertainty) of probability distributions in each column (for each position among all motifs)"
   ]
  },
  {
   "cell_type": "code",
   "execution_count": 7,
   "id": "7f580216",
   "metadata": {
    "scrolled": false
   },
   "outputs": [
    {
     "name": "stdout",
     "output_type": "stream",
     "text": [
      "{'pos1': 1.157, 'pos2': 1.371, 'pos3': 0.0, 'pos4': 0.0, 'pos5': 0.469, 'pos6': 0.469, 'pos7': 0.469, 'pos8': 1.361, 'pos9': 0.922, 'pos10': 1.157, 'pos11': 1.571, 'pos12': 0.971}\n",
      "the total entropy is: 9.917\n"
     ]
    }
   ],
   "source": [
    "example_matrix = {\"pos1\":[0.2,0.1,0.7], \"pos2\":[0.2,0.2,0.6], \"pos3\":[1],\"pos4\":[1], \"pos5\":[0.1,0.9], \"pos6\":[0.1,0.9],\"pos7\":[0.1,0.9], \"pos8\":[0.1,0.4,0.5], \"pos9\":[0.1,0.1,0.8], \"pos10\":[0.1,0.2,0.7], \"pos11\":[0.3,0.3,0.4], \"pos12\":[0.6,0.4]}\n",
    "from math import log2\n",
    "def entropy(motif_matrix):\n",
    "    ent_list = []\n",
    "    ent_dict = {}\n",
    "    total_ent_dict = {}\n",
    "    for ID,prob_list in motif_matrix.items():    \n",
    "        for i in prob_list:              ## we take the dictionary of positions : lists of probs; take each one of these lists, and calculate the individual entropies.\n",
    "            entropy = -(i*log2(i))\n",
    "            ent_list.append(entropy)\n",
    "        ent_dict[ID] = ent_list         ###we assign individual entropy lists to the same IDs (positions)\n",
    "        ent_list = []           \n",
    "    for ID, ent_list in ent_dict.items():      ### we create a final dictionary from the last one, where the values are the sum of entropies in each lists\n",
    "        total_ent_dict[ID] = round(sum(ent_list),3)\n",
    "    return total_ent_dict                  #### here we have a dictionary for each position, along with its entropy.\n",
    "\n",
    "print(entropy(example_matrix))\n",
    "print(f\"the total entropy is: {sum(entropy(example_matrix).values())}\")                          ###we can take the total entropy in the process"
   ]
  },
  {
   "cell_type": "markdown",
   "id": "b7c1478c",
   "metadata": {},
   "source": [
    "-----------"
   ]
  },
  {
   "cell_type": "markdown",
   "id": "72521a4d",
   "metadata": {},
   "source": [
    "To be Continued..."
   ]
  }
 ],
 "metadata": {
  "kernelspec": {
   "display_name": "Python 3 (ipykernel)",
   "language": "python",
   "name": "python3"
  },
  "language_info": {
   "codemirror_mode": {
    "name": "ipython",
    "version": 3
   },
   "file_extension": ".py",
   "mimetype": "text/x-python",
   "name": "python",
   "nbconvert_exporter": "python",
   "pygments_lexer": "ipython3",
   "version": "3.11.4"
  }
 },
 "nbformat": 4,
 "nbformat_minor": 5
}
