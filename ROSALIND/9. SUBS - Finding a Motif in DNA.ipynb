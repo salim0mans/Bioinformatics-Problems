{
 "cells": [
  {
   "cell_type": "markdown",
   "id": "9d8c2d96",
   "metadata": {},
   "source": [
    "## 9. SUBS - Finding a Motif in DNA    \n",
    "\n",
    "Motifs are specific patterns that can be found in a DNA sequence (or RNA, protein, etc.).  \n",
    "To search for positions that some pattern occurs in a string of DNA, we slide a window (and allow overlapping) and record matching positions.\n"
   ]
  },
  {
   "cell_type": "code",
   "execution_count": 4,
   "id": "53dfe0b1",
   "metadata": {},
   "outputs": [
    {
     "name": "stdout",
     "output_type": "stream",
     "text": [
      "1 8 15 22 54 153 173 180 196 203 212 235 298 317 338 364 373 405 412 432 457 464 481 513 527 572 579 586 593 608 615 641 668 690 750 757\n"
     ]
    }
   ],
   "source": [
    "path = \"datasets/rosalind_subs.txt\"\n",
    "import re\n",
    "def is_valid_dna(string):\n",
    "    pattern = r'^[GCAT]*$'\n",
    "    return re.match(pattern, string) is not None       ###match the sequences for having only GCAT as True\n",
    "\n",
    "with open(path) as file:\n",
    "    for line in file:\n",
    "        if not is_valid_dna(line.upper().rstrip()):\n",
    "            raise Exception(\"Warning: The string contains bases other than ACTG.\")\n",
    "\n",
    "def motif(path):\n",
    "    with open(path) as file:\n",
    "        lines = [line.rstrip() for line in file]  ### extract lines into a list (element 0 is the reference sequence, and element 1 is the motif pattern to be searched)\n",
    "    seq = lines[0]\n",
    "    seq_len = len(seq)\n",
    "    pattern = lines[1]\n",
    "    pattern_len = len(pattern)\n",
    "    match_position = []                                   \n",
    "    for i in range(seq_len-pattern_len+1):        ### the loop slides by one base from 0 to the base that preceeds the final base by pattern's length (so there won't be an out of range error) +1 (because pythons starts with 0)\n",
    "        if pattern == seq[i:i+pattern_len]:    ###search window is from current position up to further bases by pattern's length\n",
    "            match_position.append(str(i+1))   ### if the pattern is equal to that window, then the match list will record the starting position of that matching window\n",
    "    return \" \".join(match_position)\n",
    "print(motif(path))\n"
   ]
  }
 ],
 "metadata": {
  "kernelspec": {
   "display_name": "Python 3 (ipykernel)",
   "language": "python",
   "name": "python3"
  },
  "language_info": {
   "codemirror_mode": {
    "name": "ipython",
    "version": 3
   },
   "file_extension": ".py",
   "mimetype": "text/x-python",
   "name": "python",
   "nbconvert_exporter": "python",
   "pygments_lexer": "ipython3",
   "version": "3.11.4"
  }
 },
 "nbformat": 4,
 "nbformat_minor": 5
}
