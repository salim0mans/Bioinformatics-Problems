{
 "cells": [
  {
   "cell_type": "markdown",
   "id": "9d8c2d96",
   "metadata": {},
   "source": [
    "## 6. HAMM - Counting Point Mutations  \n",
    "  \n",
    "Hamming distance is a count of how many mismatchs we have between two strings. It is used for DNA allignment mismatch measurement, for example, for finding the loci with minimum hamming distance (and hence, best alignment).  \n",
    "We start by uploading the file from a local directory or so. Then, we define the check function (for validity of sequence).  \n"
   ]
  },
  {
   "cell_type": "code",
   "execution_count": 14,
   "id": "224c50b4",
   "metadata": {
    "scrolled": true
   },
   "outputs": [
    {
     "name": "stdout",
     "output_type": "stream",
     "text": [
      "485\n"
     ]
    }
   ],
   "source": [
    "import re\n",
    "\n",
    "path = \"datasets/rosalind_hamm.txt\"\n",
    "def is_valid_dna(string):\n",
    "    pattern = r'^[GCAT]*$'\n",
    "    return re.match(pattern, string) is not None       ###match the sequences for having only GCAT as True\n",
    "\n",
    "with open(path) as file:\n",
    "    for line in file:\n",
    "        if not is_valid_dna(line.upper().rstrip()):\n",
    "            raise Exception(\"Warning: The string contains bases other than ACTG.\")\n",
    "\n",
    "def input_seqs(path):                  ##just lists the two compared sequences in a list\n",
    "    with open(path) as file:\n",
    "        seqs = []\n",
    "        for line in file:\n",
    "            seqs.append(line.rstrip().upper())\n",
    "    return seqs\n",
    "\n",
    "def hamm(path):                     \n",
    "    first = input_seqs(path)[0]                #inputs the seqs as a elemensts from the list we created using the last function\n",
    "    second = input_seqs(path)[1]               \n",
    "    n = len(first)\n",
    "    count = 0\n",
    "    for i in range(n):                       ## compares bases in each locus (index) and counts the mismatches\n",
    "        if first[i] != second[i]:\n",
    "            count += 1\n",
    "    return count\n",
    "\n",
    "print(hamm(path))\n"
   ]
  }
 ],
 "metadata": {
  "kernelspec": {
   "display_name": "Python 3 (ipykernel)",
   "language": "python",
   "name": "python3"
  },
  "language_info": {
   "codemirror_mode": {
    "name": "ipython",
    "version": 3
   },
   "file_extension": ".py",
   "mimetype": "text/x-python",
   "name": "python",
   "nbconvert_exporter": "python",
   "pygments_lexer": "ipython3",
   "version": "3.11.4"
  }
 },
 "nbformat": 4,
 "nbformat_minor": 5
}
