{
 "cells": [
  {
   "cell_type": "markdown",
   "id": "9d8c2d96",
   "metadata": {},
   "source": [
    "## 10. MRNA - Inferring mRNA from Protein \n",
    "  \n",
    "Protein translation follows the universal code, where each 3 bases (1 codon) in mRNA represent one amino acid (aa). The genetic code is unique for each aa. In other words, no aa shares genetic code with another. Also, genetic code covers all possibilities of 3 consecutive bases (4^3). However, almost all amino acids have more than one codon (since all codons are 64 and common structural aa are 20). Therefore, a peptide sequence can result from different combinations of mRNA sequences that happen to yield the same aa symbols aligning the same.  \n",
    "The plan is to just take the product of each independent event (amino acid), each event has a number of elements equal its possible codons."
   ]
  },
  {
   "cell_type": "code",
   "execution_count": 19,
   "id": "b3fc952c",
   "metadata": {},
   "outputs": [
    {
     "name": "stdout",
     "output_type": "stream",
     "text": [
      "2122368\n"
     ]
    }
   ],
   "source": [
    "from math import prod\n",
    "path = \"datasets/rosalind_mrna.txt\"\n",
    "code = {\"A\": [\"GCU\",\"GCC\", \"GCA\",\"GCG\"], \"V\": [\"GUU\",\"GUA\",\"GUC\",\"GUG\"], \"I\": [\"AUU\", \"AUC\", \"AUA\"],\"M\":[\"AUG\"], \"L\": [\"CUU\",\"CUC\", \"CUG\", \"CUA\", \"UUA\",\"UUG\"],\"F\": [\"UUU\", \"UUC\"], \"S\": [\"UCU\",\"UCC\",\"UCA\",\"UCG\",\"AGU\",\"AGC\"], \"P\": [\"CCU\", \"CCC\",\"CCA\",\"CCG\"],\"T\": [\"ACU\",\"ACA\",\"ACC\",\"ACG\"], \"E\": [\"GAA\",\"GAG\"], \"D\":[\"GAU\", \"GAC\"], \"N\":[\"AAU\",\"AAC\"],\"K\":[\"AAA\",\"AAG\"], \"Q\":[\"CAA\", \"CAG\"], \"H\":[\"CAU\",\"CAC\"], \"Y\": [\"UAU\",\"UAC\"], \"C\": [\"UGU\",\"UGC\"], \"W\":[\"UGG\"],\"R\":[\"CGA\",\"CGC\",\"CGU\",\"CGG\",\"AGA\",\"AGG\"], \"G\":[\"GGU\",\"GGC\",\"GGA\",\"GGG\"], \"STOP\":[\"UGA\",\"UAA\",\"UAG\"]} ##genetic code\n",
    "aa_all = \"ACDEFGHIKLMNPQRSTVWY\" #all protein-building amino acids\n",
    "\n",
    "def mrna(path):\n",
    "    codons_per_aa = {}         ### a dict to get number of unique codons for each aa\n",
    "    possible_codons = []       ### a list to gather number of possible codons per each aa that the loops slide on.\n",
    "    for aa in sorted(code):\n",
    "        codons_per_aa[aa] = len(code[aa]) \n",
    "\n",
    "    with open(path) as file:\n",
    "        for peptide in file:\n",
    "            for amino in peptide.rstrip():\n",
    "                if amino in codons_per_aa:          ###when sliding by aa, we append the corresponding number of possible codons for that aa.\n",
    "                    possible_codons.append(codons_per_aa[amino])\n",
    "                else:\n",
    "                    return \" \".join([\"Error, a.a. not identified at position: \", str(line.index(amino)+1),amino])\n",
    "    \n",
    "    total_possible_mrna = prod(possible_codons)   ## since each choosing the codon for each aa is independent from the others, the total number of possible mRNA molecules that yield that peptide is the product of codon possibilities for each aa.\n",
    "    return (total_possible_mrna % 1000000)*3       ### since the product is immensly huge, we take it modulo 1,000,000. However, we multiply by 3 since all these possibilities can end with 3 different stop codons regardless.\n",
    " \n",
    "print(mrna(path))\n",
    "###Since the product was taken modulo 1E+6, the answer is only the last 6 digits"
   ]
  }
 ],
 "metadata": {
  "kernelspec": {
   "display_name": "Python 3 (ipykernel)",
   "language": "python",
   "name": "python3"
  },
  "language_info": {
   "codemirror_mode": {
    "name": "ipython",
    "version": 3
   },
   "file_extension": ".py",
   "mimetype": "text/x-python",
   "name": "python",
   "nbconvert_exporter": "python",
   "pygments_lexer": "ipython3",
   "version": "3.11.4"
  }
 },
 "nbformat": 4,
 "nbformat_minor": 5
}
