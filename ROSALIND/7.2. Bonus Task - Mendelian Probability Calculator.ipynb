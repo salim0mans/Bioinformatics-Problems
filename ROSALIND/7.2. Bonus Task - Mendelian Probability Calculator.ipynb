{
 "cells": [
  {
   "cell_type": "markdown",
   "id": "9d8c2d96",
   "metadata": {},
   "source": [
    "## 7.2. Bonus Task - Mendelian Probability Calculator\n",
    "\n",
    "The idea behind this piece of code is to provide an input about the genotype of each of parents, and then outputs the probability of dominant or recessive genotypes.  \n",
    "We made a score for each different cases (involving combinations of numbers of dominant alleles in the two parents), and made a dictionary dictionaries of cases and their probabilities out of it.  \n",
    "the following is simple, we determine the case we have by calculation, and call that case dictionary (from the bigger dictionary) and sum prbability where dominant (or recessive) genotype happens, and output that total probability."
   ]
  },
  {
   "cell_type": "code",
   "execution_count": 49,
   "id": "224c50b4",
   "metadata": {
    "scrolled": true
   },
   "outputs": [
    {
     "name": "stdout",
     "output_type": "stream",
     "text": [
      "probabilities of genotypes in this case: {'AA': 0.25, 'AB': 0.5, 'BB': 0.25}\n",
      "probability of offspring with a dominant genotype: 0.75\n"
     ]
    }
   ],
   "source": [
    "path = \"datasets/rosalind_iprb.txt\"\n",
    "from math import *\n",
    "\n",
    "def mendelian_prob(paternal_dom_cnt,maternal_dom_cnt,dom_or_rec): \n",
    "    mendelian_cases = {16:{\"AA\" : 1}, 4:{\"BB\": 1},9:{\"AA\":0.25, \"AB\": 0.5, \"BB\": 0.25},8:{\"AB\":1},12:{\"AA\": 0.5, \"AB\": 0.5},6:{\"BB\": 0.5, \"AB\": 0.5}} # probabilities in each possibility in mendelian 1 gene distribution\n",
    "    dom = [] #for dominant probs in each case\n",
    "    rec = [] #for recessive probs in each case\n",
    "    actual_gt = (((paternal_dom_cnt)+2)*((maternal_dom_cnt)+2))\n",
    "\n",
    "    #the system of creating the mendelian_prob dict and actual_gt is based on a simple rule that differentiates all cases:\n",
    "    #I noticed that we can assign a value of 1 to recessive and 2 to dominant. In that case, the lowest score possible for each parent is 2 (1+1), but if we have one dominant allele (like, 2+1), it is the same as having 1+1 and adding 1 to it.\n",
    "    # therefore, we start with minimum of 2 and add 1 for each dominant allele. so for RR it is 2, for DR it is 3, and for DD it is 4.\n",
    "    # Now to make unique combinations, I thought of making a score by multiplication of maternal score by paternal score. \n",
    "    #Hence, we will have these unique cases, that each represents a cases of genotype distribution: 2*2 = 4, 2*3 = 6, 2*4 = 8, 3*3 = 9, 3*4 = 12, 4*4 = 16\n",
    "    #The awesome thing about this method is that it considers cases regardless which one of the parents has which number of dominant allels (works same both ways, and no need to define redundant cases like if pat = 2 / mat = 0 and if pat = 0 and mat = 2)\n",
    "    \n",
    "    \n",
    "    for case in mendelian_cases[actual_gt]: \n",
    "            if \"A\" in case:        ### dominance requires only one allele of A (since A is the dominant allele here)\n",
    "                dom.append(mendelian_cases[actual_gt][case])\n",
    "            elif \"BB\" in case:        ### recessive cases needs two recessive alleles to happen.\n",
    "                rec.append(mendelian_cases[actual_gt][case])    \n",
    "    \n",
    "    print(f'probabilities of genotypes in this case: {mendelian_cases[actual_gt]}')            \n",
    "    if dom_or_rec == \"dom\" or dom_or_rec == 1:             \n",
    "        return f\"probability of offspring with a dominant genotype: {round(sum(dom), 5)}\"       ##now we have a list of probabilities for each dominant case possible, we just sum thoses probabilities (as a union)\n",
    "    elif dom_or_rec == \"rec\" or dom_or_rec == 0:\n",
    "        return f\"probability of offspring with a recessive genotype: {round(sum(rec), 5)}\"      ## same for recessive\n",
    "    else:\n",
    "        return \"Please, choose only 1 or 0\"\n",
    "\n",
    "print(mendelian_prob(1,1,1))  ### parameters are (paternal number of dominant alleles, maternal number of dominant alleles, dominant or recessive? (1/0 or \"dom\"/\"rec\"))"
   ]
  }
 ],
 "metadata": {
  "kernelspec": {
   "display_name": "Python 3 (ipykernel)",
   "language": "python",
   "name": "python3"
  },
  "language_info": {
   "codemirror_mode": {
    "name": "ipython",
    "version": 3
   },
   "file_extension": ".py",
   "mimetype": "text/x-python",
   "name": "python",
   "nbconvert_exporter": "python",
   "pygments_lexer": "ipython3",
   "version": "3.11.4"
  }
 },
 "nbformat": 4,
 "nbformat_minor": 5
}
