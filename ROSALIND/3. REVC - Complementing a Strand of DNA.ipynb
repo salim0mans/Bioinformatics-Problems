{
 "cells": [
  {
   "cell_type": "markdown",
   "id": "9d8c2d96",
   "metadata": {},
   "source": [
    "## 3. REVC - Complementing a Strand of DNA  \n",
    "  \n",
    "We start by uploading the file from a local directory or so. Then, we define the check function (for validity of sequence).  \n",
    "We can use translate() and str.maketrans() function. The function replaces a defined string character (key) by another (value) within a dictionary that should be used to make a mapping table, with which it translate each base with its complement, then we flip."
   ]
  },
  {
   "cell_type": "code",
   "execution_count": 18,
   "id": "224c50b4",
   "metadata": {
    "scrolled": true
   },
   "outputs": [
    {
     "name": "stdout",
     "output_type": "stream",
     "text": [
      "AATACTTGCCCCGTGCGCATTAGGTCATATTAATCACGAAGCCAGACTACTGCTCTAGAGTCGGTGTCGGACAAGATAGTTTCGTTTCGGTACTGACAGCGTATGTAGTCTCCCTGTAGTGGCCTTCAGTACTCCAGCAGAATTGTTACGGGGACCGCATTCCATGAATCCCACTAAGGTTCACGAGTCTAGACTGCCCCCGCGAATGTTCCCTATAAGTAAAAGATAAGTAAGTTAGGTAAGGATACTCCTTAAAAGTCACGGGCACTACCACTGATTCTTGCCAGTAGAAGGGTAGCAACAGCGTCAGTCCGGTCTCAGCATCAGAGAAGATTGCTTCCATTCCGCGATTCATGGGGTCCTATGGTCCCTTGTAGATGGCGAATTACACCCCTATGGCCGAAGTGTTGCGTGTATGGCTCGCAGCCCTTTCTTTTACACCCACCTCAGAAGGTTGGAAGATCAAGGCCTGATCCGAGAGCTGGTCTGTTTCGACCGAAACTGTACTCGTCGTTATTCTCACCACCGCCTAGTCGTTCAGGTAAGTGATACCCGGAAAGTTCTACCGCACCGCCGTATACGAGGCGAAGGAGTAATACTCAGCCATGCATTCGTCATTCTGCTTACTAGCAACCCCGCTCTTGAGCGGGCGACGTAACCTAGGCGGCGATGGCTCTACAGGCATGCTTTCGAATGCGAACCATGGTCCCCTGAGTCTGTCGATCAATTTATTGAGTCGTATACCACCGCTCTAGATAACAGCCTACCTATTGGTGTACATGGACGAAGACGAGCCTTCACTCGACGTATCGATC\n"
     ]
    }
   ],
   "source": [
    "import re\n",
    "\n",
    "path = \"datasets/rosalind_revc.txt\"\n",
    "def is_valid_dna(string):\n",
    "    pattern = r'^[GCAT]*$'\n",
    "    return re.match(pattern, string) is not None\n",
    "\n",
    "def complement(path):\n",
    "    trans_dict = {\"T\":\"A\",\"A\":\"T\",\"C\":\"G\",\"G\":\"C\"} #translation dictionary that replaces each base with complementary one\n",
    "    map_table =  str.maketrans(trans_dict) ##make the mapping table with trans dict\n",
    "    with open(path) as file:\n",
    "        for line in file:\n",
    "            if is_valid_dna(line.rstrip().upper()):\n",
    "                comp_strand = line.rstrip().upper().translate(map_table) ##replace using the mapping table within our string\n",
    "            else:\n",
    "                print(\"Warning: The string contains bases other than ACTG.\")\n",
    "    return comp_strand[::-1] ###reverse the complementary sequence to be from 5' to 3'\n",
    "\n",
    "print(complement(path))"
   ]
  }
 ],
 "metadata": {
  "kernelspec": {
   "display_name": "Python 3 (ipykernel)",
   "language": "python",
   "name": "python3"
  },
  "language_info": {
   "codemirror_mode": {
    "name": "ipython",
    "version": 3
   },
   "file_extension": ".py",
   "mimetype": "text/x-python",
   "name": "python",
   "nbconvert_exporter": "python",
   "pygments_lexer": "ipython3",
   "version": "3.11.4"
  }
 },
 "nbformat": 4,
 "nbformat_minor": 5
}
