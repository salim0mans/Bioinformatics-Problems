{
 "cells": [
  {
   "cell_type": "markdown",
   "id": "9d8c2d96",
   "metadata": {},
   "source": [
    "## 1. DNA - Counting DNA Nucleotides  \n",
    "  \n",
    "We start by uploading the file from a local directory or so. Then, we define the check function (for validity of sequence) and the count function.  \n",
    "The count function starts by filling the count dict with value (0) for each base.  \n",
    "Then we read the file (we pay attention to removing the white spaces). In each line, the loop iterates each base, and compare to the bases (the keys) inside the count dictionary, finally adding the matching base. "
   ]
  },
  {
   "cell_type": "code",
   "execution_count": 18,
   "id": "224c50b4",
   "metadata": {
    "scrolled": false
   },
   "outputs": [
    {
     "name": "stdout",
     "output_type": "stream",
     "text": [
      "{'A': 201, 'C': 195, 'T': 222, 'G': 208}\n"
     ]
    }
   ],
   "source": [
    "import re\n",
    "\n",
    "path = \"datasets/rosalind_dna.txt\"\n",
    "\n",
    "def is_valid_dna(string):\n",
    "    pattern = r'^[GCAT]*$'      #match the string you have with the pattern that only accepts presence of G,C,A,T\n",
    "    return re.match(pattern, string) is not None    #and if so, make it equal True\n",
    "\n",
    "def dna_cnt(path):\n",
    "    count = {}\n",
    "    for i in \"ACTG\":        #make a count dict with initial values of 0\n",
    "        count[i] = 0\n",
    "    with open(path) as file:\n",
    "        for line in file:\n",
    "            if is_valid_dna(line.rstrip().upper()):\n",
    "                for base in line.rstrip().upper():        #for each base matching the bases (keys) add 1 while sliding the window base by base\n",
    "                    count[base] += 1\n",
    "            else:\n",
    "                print(\"Warning: The string contains bases other than ACTG.\")\n",
    "    return count\n",
    "print(dna_cnt(path))"
   ]
  }
 ],
 "metadata": {
  "kernelspec": {
   "display_name": "Python 3 (ipykernel)",
   "language": "python",
   "name": "python3"
  },
  "language_info": {
   "codemirror_mode": {
    "name": "ipython",
    "version": 3
   },
   "file_extension": ".py",
   "mimetype": "text/x-python",
   "name": "python",
   "nbconvert_exporter": "python",
   "pygments_lexer": "ipython3",
   "version": "3.11.4"
  }
 },
 "nbformat": 4,
 "nbformat_minor": 5
}
