{
 "cells": [
  {
   "cell_type": "markdown",
   "id": "9d8c2d96",
   "metadata": {},
   "source": [
    "## 2. RNA - Transcribing DNA into RNA  \n",
    "  \n",
    "We start by uploading the file from a local directory or so. Then, we define the check function (for validity of sequence).  \n",
    "We can use translate() and str.maketrans() function. The function replaces a defined string character (key) by another (value) within a dictionary that should be used to make a mapping table, with which it translate T to U."
   ]
  },
  {
   "cell_type": "code",
   "execution_count": 4,
   "id": "224c50b4",
   "metadata": {
    "scrolled": false
   },
   "outputs": [
    {
     "name": "stdout",
     "output_type": "stream",
     "text": [
      "UAAAACCGGAAAGAACGUCUCACAAUUAGUGCGUGACCUGGCGCACUUCCCUAUCCUUCGGUCGCAGGAUGGGAAUUCAAAAAUUAUUGACCUUAAGCUGCAGGUCGGCUUAAUUACCAAAUUACAAUUCUGGACCCCUUGCGGGCAUGGUAUGACGUUAAGCGUCCUUCGAUACUACAACCAGUCUCCGAGGGGAUCCAUAUCCCGGGAAGGCCUCAAGCCAUGUCACUCAAAUCACCAUCAGGUUGGCCAGUUGAUACGCAAUUGCGGGACCCGUGGUCACCAUUAAGACCACCGCAGACGGCGCUGAGCCGGCUAGUAGGCAAGCCACAGUUCAGUGGUACUCUCUCGACAAAUGAAAGCGGAUGAGUAGCCGAAUACUAGGGCUGGUGUUCAAUUUUCCCUUCACCUUGGAGUAUGAUUUUUGAUAGAUCAUCGCGUAAAGCCAUUUGGGGUAUGACGUUUGGCGAAAAUAUUCGGAAUAGGGGUACGACAGUGUUCGUGGGAUCAUUGCCUGCUCAUAAGCCCACAGUAGACUGGAAUGCUGUUACGAAUUAUCUCCGUCGUGACAGAAAAAACACCACAAGUCCAGUUUUCCUUCCAGGGGUCUGGGAUAGGCCAACGUCUACUUACAGAAACUGACUGGGUAGACAAGUUCAAGGUGCUAUCUGCGGUUGCAUGCUUGUAGAGUGCCACUUAUCUCUAUAUAAUCCUAGUACGACUAUACGACCGAAGAAGUCCGGGGGCCCGGUAGAGGACGAGAGCCACGGAAUCUAUUGCGGUAACUAACCAGUGUCUACUCAGCUACGACUACUCAGUGCAAAUCGAGAGGACGUACCGGUCUAAGGUUCGCGACCUACGCUGUGUUCUUUGUUUAACGUUUCAGAUGAAAGAUCGCAGCGU\n"
     ]
    }
   ],
   "source": [
    "import re\n",
    "\n",
    "path = \"datasets/rosalind_rna.txt\"\n",
    "def is_valid_dna(string):\n",
    "    pattern = r'^[GCAT]*$'\n",
    "    return re.match(pattern, string) is not None #match pattern of only GCAT as True\n",
    "\n",
    "def rna_transc(path):\n",
    "    trans_dict = {\"T\":\"U\"}             #make a translation dictionary that replaces each T with a U if called to translate by ACSII code\n",
    "    map_table =  str.maketrans(trans_dict)   #make a mapping table according to the translation dictionary (that finds each T and replace it with U after converting to and from ACSII)\n",
    "    with open(path) as file:\n",
    "        for line in file:\n",
    "            if is_valid_dna(line.rstrip().upper()):\n",
    "                transcribed = line.rstrip().upper().translate(map_table) #use the mapping table in our string\n",
    "            else:\n",
    "                print(\"Warning: The string contains bases other than ACTG.\")\n",
    "    return transcribed\n",
    "print(rna_transc(path))"
   ]
  }
 ],
 "metadata": {
  "kernelspec": {
   "display_name": "Python 3 (ipykernel)",
   "language": "python",
   "name": "python3"
  },
  "language_info": {
   "codemirror_mode": {
    "name": "ipython",
    "version": 3
   },
   "file_extension": ".py",
   "mimetype": "text/x-python",
   "name": "python",
   "nbconvert_exporter": "python",
   "pygments_lexer": "ipython3",
   "version": "3.11.4"
  }
 },
 "nbformat": 4,
 "nbformat_minor": 5
}
